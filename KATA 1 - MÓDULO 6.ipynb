{
 "cells": [
  {
   "cell_type": "markdown",
   "metadata": {},
   "source": [
    "# KATA 1 - MÓDULO 6"
   ]
  },
  {
   "cell_type": "markdown",
   "metadata": {},
   "source": [
    "EJERCICIO 1"
   ]
  },
  {
   "cell_type": "code",
   "execution_count": 11,
   "metadata": {},
   "outputs": [
    {
     "name": "stdout",
     "output_type": "stream",
     "text": [
      "Hay 8 en el Sistema Solar.\n",
      "Plutón es el último planeta.\n"
     ]
    }
   ],
   "source": [
    "planetas = ['Mercurio','Venus','Tierra','Marte','Júpiter','Saturno','Urano','Neptuno']\n",
    "\n",
    "print(\"Hay \" + str(len(planetas)) + \" en el Sistema Solar.\")\n",
    "\n",
    "planetas.append('Plutón')\n",
    "\n",
    "print(str(planetas[-1]) + \" es el último planeta.\")"
   ]
  },
  {
   "cell_type": "markdown",
   "metadata": {},
   "source": [
    "EJERCICIO 2"
   ]
  },
  {
   "cell_type": "code",
   "execution_count": 26,
   "metadata": {},
   "outputs": [
    {
     "name": "stdout",
     "output_type": "stream",
     "text": [
      "Estos son los planetas más cercanos al sol desde Júpiter\n",
      "['Mercurio', 'Venus', 'Tierra', 'Marte']\n",
      "Estos son los planetas más lejanos al sol desde Júpiter\n",
      "['Saturno', 'Urano', 'Neptuno']\n"
     ]
    }
   ],
   "source": [
    "planetas = ['Mercurio','Venus','Tierra','Marte','Júpiter','Saturno','Urano','Neptuno']\n",
    "\n",
    "planeta = input(\"Ingrese el nombre de un planeta\")\n",
    "\n",
    "planeta_cercano = planetas.index(planeta)\n",
    "\n",
    "lista_cercanos = planetas[0:planeta_cercano]\n",
    "\n",
    "print(\"Estos son los planetas más cercanos al sol desde \" + planeta)\n",
    "print(lista_cercanos)\n",
    "\n",
    "lista_lejanos = planetas[planeta_cercano + 1:8]\n",
    "\n",
    "print(\"Estos son los planetas más lejanos al sol desde \" + planeta)\n",
    "print(lista_lejanos)"
   ]
  }
 ],
 "metadata": {
  "interpreter": {
   "hash": "f835553d71546984d0d0b61a24bce8c92df821274035a177d8be5f8f42674b66"
  },
  "kernelspec": {
   "display_name": "Python 3.10.2 64-bit",
   "language": "python",
   "name": "python3"
  },
  "language_info": {
   "codemirror_mode": {
    "name": "ipython",
    "version": 3
   },
   "file_extension": ".py",
   "mimetype": "text/x-python",
   "name": "python",
   "nbconvert_exporter": "python",
   "pygments_lexer": "ipython3",
   "version": "3.10.2"
  },
  "orig_nbformat": 4
 },
 "nbformat": 4,
 "nbformat_minor": 2
}
