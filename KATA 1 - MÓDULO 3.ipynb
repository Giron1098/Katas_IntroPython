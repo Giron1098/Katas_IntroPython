{
 "cells": [
  {
   "cell_type": "markdown",
   "metadata": {},
   "source": [
    "# KATA 1 - MÓDULO 3"
   ]
  },
  {
   "cell_type": "markdown",
   "metadata": {},
   "source": [
    "PROBLEMA 1"
   ]
  },
  {
   "cell_type": "code",
   "execution_count": 8,
   "metadata": {},
   "outputs": [
    {
     "name": "stdout",
     "output_type": "stream",
     "text": [
      "ADVERTENCIA: ASTEROIDE ACERCANDOSE RAPIDAMENTE\n"
     ]
    }
   ],
   "source": [
    "asteroidVelocity = 49\n",
    "\n",
    "if asteroidVelocity > 25:\n",
    "    print(\"ADVERTENCIA: ASTEROIDE ACERCANDOSE RAPIDAMENTE\")\n",
    "else:\n",
    "    print(\"SIN ASTEROIDES\")"
   ]
  },
  {
   "cell_type": "markdown",
   "metadata": {},
   "source": [
    "PROBLEMA 2"
   ]
  },
  {
   "cell_type": "code",
   "execution_count": 6,
   "metadata": {},
   "outputs": [
    {
     "name": "stdout",
     "output_type": "stream",
     "text": [
      "SIN CAMBIOS\n"
     ]
    }
   ],
   "source": [
    "asteroidVelocity = 19\n",
    "\n",
    "if asteroidVelocity >= 20:\n",
    "    print(\"INFORMACIÓN: RAYO DE LUZ VISIBLE AHORA MISMO\")\n",
    "else:\n",
    "    print(\"SIN CAMBIOS\")"
   ]
  },
  {
   "cell_type": "markdown",
   "metadata": {},
   "source": [
    "PROBLEMA 3"
   ]
  },
  {
   "cell_type": "code",
   "execution_count": 5,
   "metadata": {},
   "outputs": [
    {
     "name": "stdout",
     "output_type": "stream",
     "text": [
      "PELIGRO: SE ACERCA UN ASTEROIDE DE GRAN TAMAÑO\n"
     ]
    }
   ],
   "source": [
    "asteroidVelocity = int(input(\"Velocidad del asteroide\"))\n",
    "asteroidSize = int(input(\"Tamaño del asteroide\"))\n",
    "\n",
    "if asteroidVelocity > 25 and asteroidSize > 25:\n",
    "    print(\"PELIGRO: ASTEROIDE DE GRAN TAMAÑO ACERCANDOSE RAPIDAMENTE\")\n",
    "elif asteroidVelocity <= 20 and asteroidSize > 25:\n",
    "    print(\"PELIGRO: SE ACERCA UN ASTEROIDE DE GRAN TAMAÑO\")\n",
    "elif asteroidVelocity >= 20 and asteroidSize <= 25:\n",
    "    print(\"INFORMACIÓN: RAYO DE LUZ VISIBLE AHORA MISMO\")\n",
    "elif asteroidSize < 25:\n",
    "    print(\"OK: ASTEROIDE PEQUEÑO\")\n",
    "else:\n",
    "    print(\"SIN NOVEDADES\")\n",
    "\n"
   ]
  }
 ],
 "metadata": {
  "interpreter": {
   "hash": "f835553d71546984d0d0b61a24bce8c92df821274035a177d8be5f8f42674b66"
  },
  "kernelspec": {
   "display_name": "Python 3.10.2 64-bit",
   "language": "python",
   "name": "python3"
  },
  "language_info": {
   "codemirror_mode": {
    "name": "ipython",
    "version": 3
   },
   "file_extension": ".py",
   "mimetype": "text/x-python",
   "name": "python",
   "nbconvert_exporter": "python",
   "pygments_lexer": "ipython3",
   "version": "3.10.2"
  },
  "orig_nbformat": 4
 },
 "nbformat": 4,
 "nbformat_minor": 2
}
