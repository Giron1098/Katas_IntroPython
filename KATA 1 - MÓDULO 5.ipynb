{
 "cells": [
  {
   "cell_type": "markdown",
   "metadata": {},
   "source": [
    "# KATA 1 - MÓDULO 5"
   ]
  },
  {
   "cell_type": "markdown",
   "metadata": {},
   "source": [
    "EJERCICIO 1 - UTILIZAR OPERADORES ARITMÉTICOS\n",
    "\n",
    "Crear un programa que pueda calcular la distancia entre dos planetas.\n",
    "Comenzaremos usando dos distancias de planetas: Tierra (149.597.870 km) y Júpiter (778.547.200 km)."
   ]
  },
  {
   "cell_type": "code",
   "execution_count": 5,
   "metadata": {},
   "outputs": [
    {
     "name": "stdout",
     "output_type": "stream",
     "text": [
      "Distancia en KM: 628949330\n",
      "Distancia en Millas: 390577534\n"
     ]
    }
   ],
   "source": [
    "tierra = 149597870 # en km\n",
    "jupiter = 778547200 # en km\n",
    "\n",
    "distancia_km = jupiter - tierra\n",
    "\n",
    "distancia_millas = round(distancia_km * 0.621)\n",
    "\n",
    "print(f\"Distancia en KM: {distancia_km}\")\n",
    "print(f\"Distancia en Millas: {distancia_millas}\")"
   ]
  },
  {
   "cell_type": "markdown",
   "metadata": {},
   "source": [
    "EJERCICIO 2 - CONVIERTE CADENAS EN NÚMEROS Y USA VALORES ABSOLUTOS\n",
    "\n",
    "Leer la distancia del sol para dos planetas, y luego mostrar la distancia entre los planetas"
   ]
  },
  {
   "cell_type": "code",
   "execution_count": 7,
   "metadata": {},
   "outputs": [
    {
     "name": "stdout",
     "output_type": "stream",
     "text": [
      "Distancia en KM: 4437200000\n",
      "Distancia en Millas: 2755501200\n"
     ]
    }
   ],
   "source": [
    "planeta_1 = int(input(\"Ingresa la distancia al Sol del primer planeta (en KM)\"))\n",
    "planeta_2 = int(input(\"Ingresa la distancia al Sol del segundo planeta (en KM)\"))\n",
    "\n",
    "distancia_km = abs(planeta_1 - planeta_2)\n",
    "\n",
    "distancia_millas = abs(round(distancia_km * 0.621))\n",
    "\n",
    "print(f\"Distancia en KM: {distancia_km}\")\n",
    "print(f\"Distancia en Millas: {distancia_millas}\")"
   ]
  }
 ],
 "metadata": {
  "interpreter": {
   "hash": "f835553d71546984d0d0b61a24bce8c92df821274035a177d8be5f8f42674b66"
  },
  "kernelspec": {
   "display_name": "Python 3.10.2 64-bit",
   "language": "python",
   "name": "python3"
  },
  "language_info": {
   "codemirror_mode": {
    "name": "ipython",
    "version": 3
   },
   "file_extension": ".py",
   "mimetype": "text/x-python",
   "name": "python",
   "nbconvert_exporter": "python",
   "pygments_lexer": "ipython3",
   "version": "3.10.2"
  },
  "orig_nbformat": 4
 },
 "nbformat": 4,
 "nbformat_minor": 2
}
