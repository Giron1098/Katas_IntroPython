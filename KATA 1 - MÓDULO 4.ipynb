{
 "cells": [
  {
   "cell_type": "markdown",
   "metadata": {},
   "source": [
    "# KATA 1 - MÓDULO 4"
   ]
  },
  {
   "cell_type": "markdown",
   "metadata": {},
   "source": [
    "EJERCICIO 1: TRANSFORMAR CADENAS"
   ]
  },
  {
   "cell_type": "code",
   "execution_count": 69,
   "metadata": {},
   "outputs": [
    {
     "name": "stdout",
     "output_type": "stream",
     "text": [
      "\n",
      "on average, the moon moves 4cm away from the earth every year\n",
      "the highest daylight temperature of the moon is 127 celcius.\n"
     ]
    }
   ],
   "source": [
    "text = \"\"\"Interesting facts about the Moon. The Moon is Earth's only satellite. There are several interesting facts about the Moon and how it affects life here on Earth. \n",
    "On average, the Moon moves 4cm away from the Earth every year. This yearly drift is not significant enough to cause immediate effects on Earth. The highest daylight temperature of the Moon is 127 C.\"\"\"\n",
    "\n",
    "oraciones = text.lower().split('. ') # Dividimos el texto en oraciones y lo convertimos todo a minusculas para facilitar la busqueda\n",
    "\n",
    "palabras_clave = ['average','temperature','distance'] # Definimos un arreglo con las palabras clave\n",
    "\n",
    "for item in oraciones: # Se recorre el primer arreglo con el texto\n",
    "    for clave in palabras_clave: # Se recorre el segundo arreglo con las palabras clave\n",
    "        if clave in item: # Se hace la busqueda de alguna palabra clave en el texto\n",
    "            print(item.replace(' c',' celcius')) # Se imprime la oración que corresponda con la búsqueda y se hace su respectivo reemplazo en caso de ser necesario\n",
    "#print(oraciones)\n",
    "    \n",
    "\n"
   ]
  },
  {
   "cell_type": "markdown",
   "metadata": {},
   "source": [
    "EJERCICIO 2: FORMATEANDO CADENAS"
   ]
  },
  {
   "cell_type": "code",
   "execution_count": 115,
   "metadata": {},
   "outputs": [
    {
     "name": "stdout",
     "output_type": "stream",
     "text": [
      "Gravity Facts About Moon\n",
      "----------------------------------------------------------------------\n",
      "Planet Name: Earth\n",
      "Gravity on Moon: 1.62 m/s2\n",
      "\n",
      "\n",
      "Gravity Facts About Ganymede\n",
      "----------------------------------------------------------------------\n",
      "Planet Name: Mars\n",
      "Gravity on Ganymede: 1.43 m/s2\n"
     ]
    }
   ],
   "source": [
    "name = \"Moon\"\n",
    "gravity = 0.00162 # in kms\n",
    "planet = \"Earth\"\n",
    "\n",
    "gravity_ms = gravity * 1000 # in ms\n",
    "formated_gravity = \"{:.2f}\".format(gravity_ms)\n",
    "\n",
    "title = f\"gravity facts about {name}\"\n",
    "\n",
    "data_template = f\"\"\"{'-' * 70}\n",
    "Planet Name: {planet}\n",
    "Gravity on {name}: {formated_gravity} m/s2\"\"\"\n",
    "\n",
    "final_template = f\"\"\"{title.title()}\n",
    "{data_template}\"\"\"\n",
    "\n",
    "print(final_template)\n",
    "\n",
    "print(\"\\n\")\n",
    "\n",
    "name = \"Ganymede\"\n",
    "gravity = 0.00143 # in kms\n",
    "planet = \"Mars\"\n",
    "\n",
    "gravity_ms = gravity * 1000 # in ms\n",
    "formated_gravity = \"{:.2f}\".format(gravity_ms)\n",
    "\n",
    "new_template = f\"\"\"Gravity Facts About {name}\n",
    "----------------------------------------------------------------------\n",
    "Planet Name: {planet}\n",
    "Gravity on {name}: {formated_gravity} m/s2\"\"\"\n",
    "\n",
    "print(new_template.format(name = name, planet = planet, formated_gravity = formated_gravity))\n",
    "\n"
   ]
  }
 ],
 "metadata": {
  "interpreter": {
   "hash": "f835553d71546984d0d0b61a24bce8c92df821274035a177d8be5f8f42674b66"
  },
  "kernelspec": {
   "display_name": "Python 3.10.2 64-bit",
   "language": "python",
   "name": "python3"
  },
  "language_info": {
   "codemirror_mode": {
    "name": "ipython",
    "version": 3
   },
   "file_extension": ".py",
   "mimetype": "text/x-python",
   "name": "python",
   "nbconvert_exporter": "python",
   "pygments_lexer": "ipython3",
   "version": "3.10.2"
  },
  "orig_nbformat": 4
 },
 "nbformat": 4,
 "nbformat_minor": 2
}
