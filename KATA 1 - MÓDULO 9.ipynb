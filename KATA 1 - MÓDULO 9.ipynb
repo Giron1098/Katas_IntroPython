{
 "cells": [
  {
   "cell_type": "markdown",
   "metadata": {},
   "source": [
    "# KATA 1 - MÓDULO 9"
   ]
  },
  {
   "cell_type": "markdown",
   "metadata": {},
   "source": [
    "EJERCICIO 1 - TRABAJAR CON ARGUMENTOS EN FUNCIONES"
   ]
  },
  {
   "cell_type": "code",
   "execution_count": 12,
   "metadata": {},
   "outputs": [
    {
     "name": "stdout",
     "output_type": "stream",
     "text": [
      "REPORTE DE COMBUSTIBLE:\n",
      "    - PROMEDIO DE COMBUSTIBLE: 44 %\n",
      "    - COMBUSTIBLE EN EL TANQUE 1: 60 %\n",
      "    - COMBUSTIBLE EN EL TANQUE 2: 43 %\n",
      "    - COMBUSTIBLE EN EL TANQUE 3: 30 %\n",
      "    \n"
     ]
    }
   ],
   "source": [
    "def lecturas_combustible(tanque_1, tanque_2, tanque_3):\n",
    "    \n",
    "    return f\"\"\"REPORTE DE COMBUSTIBLE:\n",
    "    - PROMEDIO DE COMBUSTIBLE: {prom_combustible([tanque_1, tanque_2, tanque_3])} %\n",
    "    - COMBUSTIBLE EN EL TANQUE 1: {tanque_1} %\n",
    "    - COMBUSTIBLE EN EL TANQUE 2: {tanque_2} %\n",
    "    - COMBUSTIBLE EN EL TANQUE 3: {tanque_3} %\n",
    "    \"\"\"\n",
    "\n",
    "def prom_combustible(lecturas):\n",
    "    return round(sum(lecturas) / len(lecturas))\n",
    "\n",
    "\n",
    "print(lecturas_combustible(60,43,30))"
   ]
  },
  {
   "cell_type": "markdown",
   "metadata": {},
   "source": [
    "EJERCICIO 2 - TRABAJAR CON ARGUMENTOS DE PALABRA CLAVE"
   ]
  },
  {
   "cell_type": "code",
   "execution_count": 38,
   "metadata": {},
   "outputs": [
    {
     "name": "stdout",
     "output_type": "stream",
     "text": [
      "\n",
      "    REPORTE DE MISIÓN:\n",
      "    - DESTINO: La Luna\n",
      "    - TIEMPO DE VUELO: 60 minutos\n",
      "    - COMBUSTIBLE TOTAL DISPONIBLE: 98 %\n",
      "    \n",
      "        * tanque_principal: 100 %\n",
      "        \n",
      "        * tanque_secundario: 95 %\n",
      "        \n"
     ]
    }
   ],
   "source": [
    "def mission_report(destino, *minutos, **tanques_combustible):\n",
    "\n",
    "    reporte_mision = f\"\"\"\n",
    "    REPORTE DE MISIÓN:\n",
    "    - DESTINO: {destino}\n",
    "    - TIEMPO DE VUELO: {sum(minutos)} minutos\n",
    "    - COMBUSTIBLE TOTAL DISPONIBLE: {round((sum(tanques_combustible.values())) / 2)} %\n",
    "    \"\"\"\n",
    "\n",
    "    for nombre_tanque, porcentaje in tanques_combustible.items():\n",
    "        reporte_mision += f\"\"\"\n",
    "        * {nombre_tanque}: {porcentaje} %\n",
    "        \"\"\"\n",
    "    return reporte_mision\n",
    "\n",
    "\n",
    "print(mission_report(\"La Luna\", 15, 20, 25, tanque_principal = 100, tanque_secundario = 95))"
   ]
  }
 ],
 "metadata": {
  "interpreter": {
   "hash": "f835553d71546984d0d0b61a24bce8c92df821274035a177d8be5f8f42674b66"
  },
  "kernelspec": {
   "display_name": "Python 3.10.2 64-bit",
   "language": "python",
   "name": "python3"
  },
  "language_info": {
   "codemirror_mode": {
    "name": "ipython",
    "version": 3
   },
   "file_extension": ".py",
   "mimetype": "text/x-python",
   "name": "python",
   "nbconvert_exporter": "python",
   "pygments_lexer": "ipython3",
   "version": "3.10.2"
  },
  "orig_nbformat": 4
 },
 "nbformat": 4,
 "nbformat_minor": 2
}
