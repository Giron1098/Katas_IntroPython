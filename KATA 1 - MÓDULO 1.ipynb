{
 "cells": [
  {
   "cell_type": "markdown",
   "metadata": {},
   "source": [
    "# KATA DEL MÓDULO 1"
   ]
  },
  {
   "cell_type": "markdown",
   "metadata": {},
   "source": [
    "PROGRAMA PARA OBTENER LA FECHA E IMPRIMIRLA EN PANTALLA"
   ]
  },
  {
   "cell_type": "code",
   "execution_count": 2,
   "metadata": {},
   "outputs": [
    {
     "name": "stdout",
     "output_type": "stream",
     "text": [
      "La fecha de hoy es: 2022-02-10\n"
     ]
    }
   ],
   "source": [
    "from datetime import date #IMPORTAMOS LA LIBRERÍA NECESARIA PARA OBTENER LA FECHA\n",
    "\n",
    "fecha = date.today() #CREAMOS UNA VARIABLE PARA ALMACENAR LA FECHA\n",
    "\n",
    "print(\"La fecha de hoy es: \"+ str(fecha)) #IMPRIMIMOS LA FECHA DE HOY POR CONSOLA, CONVIRTIENDOLA PRIMERO DE TIPO DATE A TIPO STRING"
   ]
  },
  {
   "cell_type": "markdown",
   "metadata": {},
   "source": [
    "PROGRAMA PARA CONVERTIR A DE PARSEC A AÑOS LUZ"
   ]
  },
  {
   "cell_type": "code",
   "execution_count": 7,
   "metadata": {},
   "outputs": [
    {
     "name": "stdout",
     "output_type": "stream",
     "text": [
      "1 parsec(s) equivale(n) a 3.26156 años luz.\n"
     ]
    }
   ],
   "source": [
    "parsec = input(\"Ingrese la cantidad de parsecs\") #EL USUARIO INGRESA LA CANTIDAD DE PARSECS A CONVERTIR Y GUARDAMOS ESE DATO EN ESTA VARIABLE\n",
    "\n",
    "# 1 parsec = 3.26156 años luz\n",
    "result = int(parsec) * 3.26156 #CONVERTIMOS EL DATO INGRESADO POR EL USUARIO A TIPO INT Y HACEMOS LA OPERACIÓN PARA LA CONVERSIÓN\n",
    "\n",
    "print(parsec + \" parsec(s) equivale(n) a \" + str(result) + \" años luz.\") #CONVERTIMOS EL RESULTADO A STRING PARA PODERLO MOSTRAR EN CONSOLA"
   ]
  }
 ],
 "metadata": {
  "interpreter": {
   "hash": "f835553d71546984d0d0b61a24bce8c92df821274035a177d8be5f8f42674b66"
  },
  "kernelspec": {
   "display_name": "Python 3.10.2 64-bit",
   "language": "python",
   "name": "python3"
  },
  "language_info": {
   "codemirror_mode": {
    "name": "ipython",
    "version": 3
   },
   "file_extension": ".py",
   "mimetype": "text/x-python",
   "name": "python",
   "nbconvert_exporter": "python",
   "pygments_lexer": "ipython3",
   "version": "3.10.2"
  },
  "orig_nbformat": 4
 },
 "nbformat": 4,
 "nbformat_minor": 2
}
